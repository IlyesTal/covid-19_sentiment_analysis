{
 "cells": [
  {
   "cell_type": "code",
   "execution_count": null,
   "metadata": {},
   "outputs": [],
   "source": [
    "!pip install twitterscraper"
   ]
  },
  {
   "cell_type": "code",
   "execution_count": null,
   "metadata": {},
   "outputs": [],
   "source": [
    "from twitterscraper import query_tweets\n",
    "import datetime as dt\n",
    "import pandas as pd"
   ]
  },
  {
   "cell_type": "code",
   "execution_count": null,
   "metadata": {},
   "outputs": [],
   "source": [
    "debut = dt.date(2020,1,1)\n",
    "fin = dt.date(2020,6,1)\n",
    "mots=\"Covid-19 OR Covid OR Corona OR Pandémie OR épidémie OR Coronavirus OR virus\"\n",
    "\n",
    "tweets = query_tweets(query=mots, begindate = debut, \n",
    "enddate = fin, lang = \"fr\")\n",
    "\n",
    "tweets = pd.DataFrame(t.__dict__ for t in tweets)\n",
    "\n",
    "tweets.to_csv('tweet_covid.csv')"
   ]
  },
  {
   "cell_type": "code",
   "execution_count": null,
   "metadata": {},
   "outputs": [],
   "source": [
    "!pip install tweepy\n",
    "\n",
    "import os\n",
    "import tweepy as tw\n",
    "\n",
    "consumer_key = \"CF COMPTE TWITTER\" \n",
    "consumer_secret = \"CF COMPTE TWITTER\"\n",
    "access_key = \"CF COMPTE TWITTER\"\n",
    "access_secret = \"CF COMPTE TWITTER\"\n",
    "\n",
    "# Authentification :\n",
    "\n",
    "auth = tw.OAuthHandler(consumer_key, consumer_secret)\n",
    "auth.set_access_token(access_token, access_token_secret)\n",
    "api = tw.API(auth, wait_on_rate_limit=True)\n",
    "\n",
    "requete = \"Covid-19 OR Covid OR Corona OR Pandémie OR épidémie OR Coronavirus OR virus\"\n",
    "\n",
    "tweets = tw.Cursor(api.search,\n",
    "                   q = requete,\n",
    "                   lang = \"fr\",\n",
    "                   since='2018-01-15').items(1000)\n",
    "\n",
    "all_tweets = [tweet.text for tweet in tweets]"
   ]
  },
  {
   "cell_type": "code",
   "execution_count": null,
   "metadata": {},
   "outputs": [],
   "source": [
    "# Autre méthode de scraping\n",
    "\n",
    "!pip install twint"
   ]
  },
  {
   "cell_type": "code",
   "execution_count": null,
   "metadata": {},
   "outputs": [],
   "source": [
    "import twint\n",
    "\n",
    "tw = twint.Config()\n",
    "\n",
    "tw.Search = \"Covid-19 OR Corona OR Covid OR Virus OR pandémie OR épidémie OR Coronavirus\"\n",
    "tw.Since = \"2020-02-01 12:00:00\"\n",
    "tw.Custom[\"tweet\"] = [\"id\"]\n",
    "tw.Pandas = True\n",
    "tw.Lang = \"fr\"\n",
    "\n",
    "twint.run.Search(tw)\n",
    "tweet = twint.storage.panda.Tweets_df"
   ]
  },
  {
   "cell_type": "code",
   "execution_count": null,
   "metadata": {},
   "outputs": [],
   "source": [
    "import re\n",
    "\n",
    "def nlp_pipeline(text):\n",
    "\n",
    "    text = text.lower()\n",
    "    text = text.replace('\\n', ' ').replace('\\r', '')\n",
    "    text = ' '.join(text.split())\n",
    "    text = re.sub(r\"[A-Za-z\\.]*[0-9]+[A-Za-z%°\\.]*\", \"\", text)\n",
    "    text = re.sub(r\"(\\s\\-\\s|-$)\", \"\", text)\n",
    "    text = re.sub(r\"[,\\!\\?\\%\\(\\)\\/\\\"]\", \"\", text)\n",
    "    text = re.sub(r\"\\&\\S*\\s\", \"\", text)\n",
    "    text = re.sub(r\"\\&\", \"\", text)\n",
    "    text = re.sub(r\"\\+\", \"\", text)\n",
    "    text = re.sub(r\"\\#\", \"\", text)\n",
    "    text = re.sub(r\"\\$\", \"\", text)\n",
    "    text = re.sub(r\"\\£\", \"\", text)\n",
    "    text = re.sub(r\"\\%\", \"\", text)\n",
    "    text = re.sub(r\"\\:\", \"\", text)\n",
    "    text = re.sub(r\"\\@\", \"\", text)\n",
    "    text = re.sub(r\"\\-\", \"\", text)\n",
    "\n",
    "    return text"
   ]
  },
  {
   "cell_type": "code",
   "execution_count": null,
   "metadata": {},
   "outputs": [],
   "source": [
    "tweet = pd.read_csv(\"tweet_covid.csv\")\n",
    "\n",
    "corpus = df['tweet']\n",
    "corpus_clean = corpus.apply(nlp_pipeline)"
   ]
  },
  {
   "cell_type": "code",
   "execution_count": null,
   "metadata": {},
   "outputs": [],
   "source": [
    "!pip install textblob\n",
    "!pip install textblob-fr"
   ]
  },
  {
   "cell_type": "code",
   "execution_count": null,
   "metadata": {},
   "outputs": [],
   "source": [
    "from textblob import TextBlob\n",
    "from textblob_fr import PatternTagger, PatternAnalyzer\n",
    "\n",
    "polarity = []\n",
    "for tweet in corpus_clean:\n",
    "  polarity.append(TextBlob(tweet,pos_tagger=PatternTagger(),analyzer=PatternAnalyzer()).sentiment[0])"
   ]
  },
  {
   "cell_type": "code",
   "execution_count": null,
   "metadata": {},
   "outputs": [],
   "source": [
    "import matplotlib.pyplot as plt\n",
    "\n",
    "plt.plot(polarity)"
   ]
  },
  {
   "cell_type": "code",
   "execution_count": null,
   "metadata": {},
   "outputs": [],
   "source": [
    "group = lambda liste, size : [liste[i:i+size] for i in range(0, len(liste), size)]\n",
    "\n",
    "polarity_par_paquet = group(polarity,100)\n",
    "\n",
    "liste_moyennes = []\n",
    "for l in polarity_par_paquet :\n",
    "  liste_moyennes.append(np.mean(l))\n",
    "\n",
    "plt.plot(liste_moyennes)"
   ]
  }
 ],
 "metadata": {
  "kernelspec": {
   "display_name": "Python 3",
   "language": "python",
   "name": "python3"
  },
  "language_info": {
   "codemirror_mode": {
    "name": "ipython",
    "version": 3
   },
   "file_extension": ".py",
   "mimetype": "text/x-python",
   "name": "python",
   "nbconvert_exporter": "python",
   "pygments_lexer": "ipython3",
   "version": "3.7.8"
  }
 },
 "nbformat": 4,
 "nbformat_minor": 4
}
